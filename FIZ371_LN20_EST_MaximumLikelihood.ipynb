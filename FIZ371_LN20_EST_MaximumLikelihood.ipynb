{
 "cells": [
  {
   "cell_type": "markdown",
   "metadata": {},
   "source": [
    "# Maximum Likelihood\n",
    "**FIZ371 - Scientific & Technical Calculations | 15/03/2021**\n",
    "\n",
    "Emre S. Tasci <emre.tasci@hacettepe.edu.tr>"
   ]
  },
  {
   "cell_type": "markdown",
   "metadata": {},
   "source": [
    "**The Problem** Given a sample of $\\{x_n\\}_{n=1}^{N}$ what is the probability that it has been sampled from a distribution, say a Gaussian one with $(\\mu,\\sigma)$?"
   ]
  },
  {
   "cell_type": "markdown",
   "metadata": {},
   "source": [
    "Gaussian Probability Distribution Function:\n",
    "\n",
    "$$P(x|\\mu,\\sigma) =  \\frac{1}{\\sqrt{2\\pi}\\sigma} e^{-(x-\\mu)^2/2\\sigma^2}$$"
   ]
  },
  {
   "cell_type": "markdown",
   "metadata": {},
   "source": [
    "so the probability that we'll pick the exact sample using this distribution is the multiplication of all the individual picking probabilities. But since these are very small quantities, instead of working with the products of them, let's work with the _logarithm_ of the product of them (this is legit because if $a>b\\rightarrow \\log a > \\log b$:"
   ]
  },
  {
   "cell_type": "markdown",
   "metadata": {},
   "source": [
    "$$\\begin{align}\\log{P({\\{x_n\\}|\\mu,\\sigma})}&=\\log\\left[P(x=x_1|\\mu,\\sigma).P(x=x_2|\\mu,\\sigma)\\dots P(x=x_N|\\mu,\\sigma)\\right] \\\\&= \\log\\left[\\prod_{n=1}^{N}{P(x=x_n|\\mu,\\sigma)}\\right]\\\\\n",
    "&=\\log\\left[\\prod_{n=1}^{N}{\\frac{1}{\\sqrt{2\\pi}\\sigma} e^{-(x_n-\\mu)^2/2\\sigma^2}}\\right]\\\\\n",
    "&=\\sum_{n=1}^{N}\\left[\\log{\\left(\\frac{1}{\\sqrt{2\\pi}\\sigma} e^{-(x_n-\\mu)^2/2\\sigma^2}\\right)}\\right]\\\\\n",
    "&=\\sum_{n=1}^{N}{\\left[\\log{\\left(\\frac{1}{\\sqrt{2\\pi}\\sigma}\\right)}+\\log{\\left( e^{-(x_n-\\mu)^2/2\\sigma^2}\\right)}\\right]}\\\\\n",
    "&=\\sum_{n=1}^{N}{\\log{\\left(\\frac{1}{\\sqrt{2\\pi}\\sigma}\\right)}}+\\sum_{n=1}^{N}{\\log{\\left( e^{-(x_n-\\mu)^2/2\\sigma^2}\\right)}}\\\\\n",
    "&=-N\\log\\left(\\sqrt{2\\pi}\\sigma\\right)-\\sum_{n=1}^{N}{\\frac{(x_n-\\mu)^2}{2\\sigma^2}}\n",
    "\\end{align}$$"
   ]
  },
  {
   "cell_type": "markdown",
   "metadata": {},
   "source": [
    "If we define the _average_ $\\bar{x}$ and _sum of square deviations_ $S$ as:\n",
    "\n",
    "$$\\bar{x}\\equiv\\sum_{n=1}^{N}{\\frac{x_n}{N}}$$\n",
    "\n",
    "and\n",
    "\n",
    "$$S \\equiv \\sum_{n=1}^{N}{(x_n - \\bar{x})^2}$$\n",
    "\n",
    "then the above equation for the $\\log{P({\\{x_n\\}|\\mu,\\sigma})}$ can be written in terms of these $\\bar{x}$ and $S$ as:\n",
    "\n",
    "$$\\log P(\\{x\\}|\\mu,\\sigma) = - N \\log (\\sqrt{2\\pi\\sigma^2}) -\\frac{[N(\\mu - \\overline{x})^2 + S]}{ 2\\sigma^2}$$"
   ]
  },
  {
   "cell_type": "markdown",
   "metadata": {},
   "source": [
    "### Proof\n",
    "To prove that:\n",
    "\n",
    "$$-N\\log\\left(\\sqrt{2\\pi}\\sigma\\right)-\\sum_{n=1}^{N}{\\frac{(x_n-\\mu)^2}{2\\sigma^2}}=- N \\log (\\sqrt{2\\pi\\sigma^2}) -\\frac{[N(\\mu - \\overline{x})^2 + S]}{ 2\\sigma^2}$$\n",
    "\n",
    "we only need to show that:\n",
    "$$\\sum_{n=1}^{N}{(x_n-\\mu)^2} = [N(\\mu - \\overline{x})^2 + S]$$"
   ]
  },
  {
   "cell_type": "markdown",
   "metadata": {},
   "source": [
    "$$\\begin{align*}\n",
    "\\sum_{n=1}^{N}{x_n^2}-\\underbrace{2\\mu\\sum{x_n}}_{2N\\mu\\bar x}+N\\mu^2 &\\stackrel{?}{=} N\\mu^2-2N\\mu\\bar x+N\\bar{x}^2+\\sum{(x_n-\\bar x)^2}\\\\\n",
    "\\sum_{n=1}^{N}{x_n^2}&\\stackrel{?}{=} N\\bar{x}^2+\\sum{x_n^2}+-2\\bar{x}\\underbrace{\\sum{x_n}}_{N\\bar{x}}+N\\bar{x}^2\\\\\n",
    "\\sum_{n=1}^{N}{x_n^2}&=\\sum_{n=1}^{N}{x_n^2}\n",
    "\\end{align*}$$"
   ]
  },
  {
   "cell_type": "markdown",
   "metadata": {},
   "source": [
    "## Maximizing the Likelihood (_Doctorin' the Tardis_ 8)\n",
    "\n",
    "$$\\log P(\\{x\\}|\\mu,\\sigma) = - N \\log (\\sqrt{2\\pi\\sigma^2}) -\\frac{[N(\\mu - \\overline{x})^2 + S]}{ 2\\sigma^2}$$\n",
    "\n",
    "The most optimal $\\mu$ and $\\sigma$ values would be the ones that maximizes the probability. So we differentiate the $\\log P$ equation wrt $\\mu$ and $\\sigma$:\n",
    "\n",
    "$$\\frac{\\partial}{\\partial\\mu}\\log P = -\\frac{N(\\mu-\\bar x)}{\\sigma^2} = 0\\\\\n",
    "\\mu = \\bar x$$"
   ]
  },
  {
   "cell_type": "markdown",
   "metadata": {},
   "source": [
    "When we are looking for the optimal $\\sigma$, choosing to differentiate with respect to $\\log\\sigma$ would be more convenient so we can use the differentiation relation:\n",
    "\n",
    "$$\\frac{\\text{d}u^n}{\\text{d}(\\log u)} = n u^n$$\n",
    "\n",
    "$$\\frac{\\partial}{\\partial\\log\\sigma}\\log P = -N+\\frac{S}{\\sigma^2} = 0\\\\\n",
    "\\sigma^2 = \\frac{S}{N}\\Rightarrow \\sigma = \\sqrt{\\frac{\\sum{(x_n - \\mu)^2}}{N}}$$"
   ]
  },
  {
   "cell_type": "markdown",
   "metadata": {},
   "source": [
    "# Application\n",
    "Let's pull a random sample of $N$ data from a Gaussian distibution with $(\\mu,\\sigma)=(50,20)$:"
   ]
  },
  {
   "cell_type": "code",
   "execution_count": 14,
   "metadata": {},
   "outputs": [],
   "source": [
    "import numpy as np\n",
    "\n",
    "# Sample the data using \"hidden\" mu & sigma\n",
    "mu_hidden = 50\n",
    "sigma_hidden = 20\n",
    "N = 10000\n",
    "\n",
    "data = np.round(np.random.normal(mu_hidden,sigma_hidden,N))"
   ]
  },
  {
   "cell_type": "code",
   "execution_count": 2,
   "metadata": {},
   "outputs": [],
   "source": [
    "# Calculate the frequencies, hence probabilities\n",
    "freq = {}\n",
    "for x in np.arange(np.min(data),np.max(data)+1):\n",
    "    freq[x] = np.sum(data == x) / N"
   ]
  },
  {
   "cell_type": "code",
   "execution_count": 3,
   "metadata": {},
   "outputs": [
    {
     "data": {
      "image/png": "[encoded data removed]",
      "text/plain": [
       "<Figure size 432x288 with 1 Axes>"
      ]
     },
     "metadata": {
      "needs_background": "light"
     },
     "output_type": "display_data"
    }
   ],
   "source": [
    "# Plot the data\n",
    "import matplotlib.pyplot as plt\n",
    "\n",
    "plt.plot(freq.keys(),freq.values(),\"b*-\")\n",
    "plt.show()"
   ]
  },
  {
   "cell_type": "code",
   "execution_count": 10,
   "metadata": {},
   "outputs": [
    {
     "name": "stdout",
     "output_type": "stream",
     "text": [
      "mu_opt: 49.980, sigma_opt: 20.034\n"
     ]
    }
   ],
   "source": [
    "mu_opt = np.mean(data)\n",
    "sigma_opt = 0\n",
    "for x in data:\n",
    "    sigma_opt += (x - mu_opt)**2\n",
    "sigma_opt /= N\n",
    "sigma_opt = np.sqrt(sigma_opt)\n",
    "\n",
    "print(\"mu_opt: {:.3f}, sigma_opt: {:.3f}\".format(mu_opt,sigma_opt))"
   ]
  },
  {
   "cell_type": "code",
   "execution_count": 5,
   "metadata": {},
   "outputs": [
    {
     "data": {
      "image/png": "[encoded data removed]",
      "text/plain": [
       "<Figure size 432x288 with 1 Axes>"
      ]
     },
     "metadata": {
      "needs_background": "light"
     },
     "output_type": "display_data"
    }
   ],
   "source": [
    "import scipy.stats as spstats\n",
    "y = spstats.norm.pdf(list(freq.keys()),mu_opt,sigma_opt)\n",
    "plt.plot(freq.keys(),freq.values(),\"b*-\")\n",
    "plt.plot(freq.keys(),y,\"r-\",linewidth=3)\n",
    "plt.show()"
   ]
  }
 ],
 "metadata": {
  "kernelspec": {
   "display_name": "Python 3",
   "language": "python",
   "name": "python3"
  },
  "language_info": {
   "codemirror_mode": {
    "name": "ipython",
    "version": 3
   },
   "file_extension": ".py",
   "mimetype": "text/x-python",
   "name": "python",
   "nbconvert_exporter": "python",
   "pygments_lexer": "ipython3",
   "version": "3.8.5"
  }
 },
 "nbformat": 4,
 "nbformat_minor": 4
}
