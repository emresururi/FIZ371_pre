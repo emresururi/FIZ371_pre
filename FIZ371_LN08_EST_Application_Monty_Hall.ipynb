{
 "cells": [
  {
   "cell_type": "markdown",
   "metadata": {},
   "source": [
    "# Monty Hall Problem\n",
    "**FIZ371 - Scientific & Technical Calculations | 08/03/2021**\n",
    "\n",
    "Emre S. Tasci <emre.tasci@hacettepe.edu.tr>"
   ]
  },
  {
   "cell_type": "code",
   "execution_count": 1,
   "metadata": {},
   "outputs": [],
   "source": [
    "import numpy as np\n",
    "import random"
   ]
  },
  {
   "cell_type": "code",
   "execution_count": 2,
   "metadata": {},
   "outputs": [],
   "source": [
    "N = 100000"
   ]
  },
  {
   "cell_type": "code",
   "execution_count": 3,
   "metadata": {},
   "outputs": [],
   "source": [
    "#np.random.seed(371)"
   ]
  },
  {
   "cell_type": "code",
   "execution_count": 4,
   "metadata": {},
   "outputs": [],
   "source": [
    "tries = np.random.randint(1,4,(N,5))\n",
    "tries[:,2:5] = 0"
   ]
  },
  {
   "cell_type": "code",
   "execution_count": 5,
   "metadata": {},
   "outputs": [
    {
     "data": {
      "text/plain": [
       "array([[3, 2, 0, 0, 0],\n",
       "       [2, 2, 0, 0, 0],\n",
       "       [3, 1, 0, 0, 0],\n",
       "       ...,\n",
       "       [3, 3, 0, 0, 0],\n",
       "       [3, 1, 0, 0, 0],\n",
       "       [3, 3, 0, 0, 0]])"
      ]
     },
     "execution_count": 5,
     "metadata": {},
     "output_type": "execute_result"
    }
   ],
   "source": [
    "tries\n",
    "    "
   ]
  },
  {
   "cell_type": "code",
   "execution_count": 6,
   "metadata": {},
   "outputs": [],
   "source": [
    "filt = tries[:,0]==tries[:,1]"
   ]
  },
  {
   "cell_type": "code",
   "execution_count": 7,
   "metadata": {},
   "outputs": [
    {
     "data": {
      "text/plain": [
       "array([[2, 2, 0, 0, 0],\n",
       "       [1, 1, 0, 0, 0],\n",
       "       [3, 3, 0, 0, 0],\n",
       "       ...,\n",
       "       [1, 1, 0, 0, 0],\n",
       "       [3, 3, 0, 0, 0],\n",
       "       [3, 3, 0, 0, 0]])"
      ]
     },
     "execution_count": 7,
     "metadata": {},
     "output_type": "execute_result"
    }
   ],
   "source": [
    "tries[filt]"
   ]
  },
  {
   "cell_type": "code",
   "execution_count": 8,
   "metadata": {},
   "outputs": [],
   "source": [
    "for i in np.array(range(N))[filt]:\n",
    "    possible = np.array([1,2,3])\n",
    "    possible = possible[possible != tries[i,0]]\n",
    "    tries[i,2] = random.choice(possible)\n",
    "\n",
    "for i in np.array(range(N))[filt]:\n",
    "    possible = np.array([1,2,3])\n",
    "    possible = possible[possible != tries[i,0]]\n",
    "    tries[i,3] = 1\n",
    "    "
   ]
  },
  {
   "cell_type": "code",
   "execution_count": 9,
   "metadata": {},
   "outputs": [],
   "source": [
    "nfilt = np.invert(filt)"
   ]
  },
  {
   "cell_type": "code",
   "execution_count": 10,
   "metadata": {},
   "outputs": [
    {
     "data": {
      "text/plain": [
       "array([[3, 2, 0, 0, 0],\n",
       "       [3, 1, 0, 0, 0],\n",
       "       [2, 1, 0, 0, 0],\n",
       "       ...,\n",
       "       [2, 1, 0, 0, 0],\n",
       "       [1, 3, 0, 0, 0],\n",
       "       [3, 1, 0, 0, 0]])"
      ]
     },
     "execution_count": 10,
     "metadata": {},
     "output_type": "execute_result"
    }
   ],
   "source": [
    "tries[nfilt]"
   ]
  },
  {
   "cell_type": "code",
   "execution_count": 11,
   "metadata": {},
   "outputs": [],
   "source": [
    "for i in np.array(range(N))[nfilt]:\n",
    "    possible = np.array([1,2,3])\n",
    "    possible = possible[possible != tries[i,0]]\n",
    "    possible = possible[possible != tries[i,1]]\n",
    "    tries[i,2] = possible[0]\n",
    "    tries[i,4] = 1"
   ]
  },
  {
   "cell_type": "code",
   "execution_count": 12,
   "metadata": {},
   "outputs": [
    {
     "data": {
      "text/plain": [
       "array([[3, 2, 1, 0, 1],\n",
       "       [2, 2, 3, 1, 0],\n",
       "       [3, 1, 2, 0, 1],\n",
       "       ...,\n",
       "       [3, 3, 1, 1, 0],\n",
       "       [3, 1, 2, 0, 1],\n",
       "       [3, 3, 1, 1, 0]])"
      ]
     },
     "execution_count": 12,
     "metadata": {},
     "output_type": "execute_result"
    }
   ],
   "source": [
    "tries"
   ]
  },
  {
   "cell_type": "code",
   "execution_count": 13,
   "metadata": {},
   "outputs": [
    {
     "name": "stdout",
     "output_type": "stream",
     "text": [
      "# of total wins if sticks  : 33389 [prob: 0.33389]\n",
      "# of total wins if switches: 66611 [prob: 0.66611]\n"
     ]
    }
   ],
   "source": [
    "print(\"# of total wins if sticks  : {:} [prob: {:.5f}]\"\\\n",
    "      .format(np.sum(tries[:,3]),np.sum(tries[:,3])/N))\n",
    "print(\"# of total wins if switches: {:} [prob: {:.5f}]\"\\\n",
    "      .format(np.sum(tries[:,4]),np.sum(tries[:,4])/N))"
   ]
  },
  {
   "cell_type": "code",
   "execution_count": null,
   "metadata": {},
   "outputs": [],
   "source": []
  }
 ],
 "metadata": {
  "kernelspec": {
   "display_name": "Python 3",
   "language": "python",
   "name": "python3"
  },
  "language_info": {
   "codemirror_mode": {
    "name": "ipython",
    "version": 3
   },
   "file_extension": ".py",
   "mimetype": "text/x-python",
   "name": "python",
   "nbconvert_exporter": "python",
   "pygments_lexer": "ipython3",
   "version": "3.8.5"
  }
 },
 "nbformat": 4,
 "nbformat_minor": 4
}
