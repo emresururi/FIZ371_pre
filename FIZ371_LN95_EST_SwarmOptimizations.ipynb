{
 "cells": [
  {
   "cell_type": "markdown",
   "metadata": {},
   "source": [
    "## Swarm Optimizations\n",
    "**FIZ371 - Scientific & Technical Computations | 24/05/2021**\n",
    "\n",
    "* Ant Colony Optimization\n",
    "* Artificial Bee Colony\n",
    "\n",
    "Dr. Emre S. Tasci <emre.tasci@hacettepe.edu.tr>"
   ]
  },
  {
   "cell_type": "markdown",
   "metadata": {},
   "source": [
    "# References\n",
    "* [Ant Colony Optimization (Portal)](http://iridia.ulb.ac.be/dorigo/ACO/index.html)\n",
    "* [Ant Colony Optimization on Traveling Salesman Problem - Stephen Guerin (Video)](https://www.youtube.com/watch?v=QZnvRXRsHHg)\n",
    "* [Ant colony algorithm for traveling salesman problem - Shauli R. (Video)](https://www.youtube.com/watch?v=Y-yW1nvfnkI)\n",
    "* [Ant Algorithm Simulator - Numan Karaaslan (Video)](https://www.youtube.com/watch?v=eVKAIufSrHs)  \n",
    "[Ant colony algorithm simulation - Numan Karaaslan (Document)](http://www.numankaraaslan.com/entry?ent=28&lang=en)\n",
    "* [C++ Ants Simulation - Pezzza's Work (Video)](https://www.youtube.com/watch?v=81GQNPJip2Y)  \n",
    "[C++ Ants Simulation 2, Path optimization - Pezzza's Work (Video)](https://www.youtube.com/watch?v=emRXBr5JvoY)  \n",
    "[C++ Ants Simulation 3, Maze - Pezzza's Work (Video)](https://www.youtube.com/watch?v=V1GeNm2D2DU)\n",
    "* [Ant Colony Optimization - David Wolfe Corne (Presentation)](https://www.macs.hw.ac.uk/~dwcorne/Teaching/bic10_ants.ppt)\n",
    "* [Coding Adventure: Ant and Slime Simulations - Sebastian Lague (Video)](https://www.youtube.com/watch?v=X-iSQQgOd1A)"
   ]
  },
  {
   "cell_type": "markdown",
   "metadata": {},
   "source": [
    "* [Artificial Bee Colony (Portal) - Derviş Karaboğa](https://abc.erciyes.edu.tr/)\n",
    "* [The Bees Algorithm, and Its Applications (Presentation) - Ziad Salem](https://www.slideserve.com/heather-noble/dr-ziad-salem-hdd-phd-bsc-spezs1-hotmail-computer-engineering-department)"
   ]
  },
  {
   "cell_type": "markdown",
   "metadata": {},
   "source": [
    "* [Half Life 2 Pheropods](https://half-life.fandom.com/wiki/Pheropods)\n",
    "* [Desert Ants (Cataglyphis)](https://en.wikipedia.org/wiki/Cataglyphis)  \n",
    "   * Calibration of vector navigation in desert ants\n",
    "Matthew Collett, Thomas S.Collett, Rüdiger Wehner\n",
    "Current Biology, 9(18), 1031-1034 (1999)\n",
    "https://doi.org/10.1016/S0960-9822(99)80451-5  \n",
    "   * Surprising findings reveal desert ants orient to the geomagnetic field\n",
    "https://phys.org/news/2018-04-reveal-ants-geomagnetic-field.html  \n",
    "(related article:\n",
    "Pauline Nikola Fleischmann et al, \"The Geomagnetic Field Is a Compass Cue in Cataglyphis Ant Navigation\", Current Biology (2018). https://doi.org/10.1016/j.cub.2018.03.043)\n",
    "   * [The Amazing Cataglyphis Ant (Video)](https://www.dailymotion.com/video/x2n7fyu)  \n",
    "   [BBC Silver Desert Ant, Cataglyphis, Sahara Desert](https://www.youtube.com/watch?v=mCaVvHeI8jU)\n",
    "   * [Reversing ants navigate successfully despite going backwards (Video)](https://www.youtube.com/watch?v=9C4rOdUxJeY)\n",
    "* [Honey bee waggle dancing (Video)](https://www.youtube.com/watch?v=1MX2WN-7Xzc)"
   ]
  },
  {
   "cell_type": "code",
   "execution_count": null,
   "metadata": {},
   "outputs": [],
   "source": []
  }
 ],
 "metadata": {
  "kernelspec": {
   "display_name": "Python 3",
   "language": "python",
   "name": "python3"
  },
  "language_info": {
   "codemirror_mode": {
    "name": "ipython",
    "version": 3
   },
   "file_extension": ".py",
   "mimetype": "text/x-python",
   "name": "python",
   "nbconvert_exporter": "python",
   "pygments_lexer": "ipython3",
   "version": "3.8.5"
  }
 },
 "nbformat": 4,
 "nbformat_minor": 2
}
