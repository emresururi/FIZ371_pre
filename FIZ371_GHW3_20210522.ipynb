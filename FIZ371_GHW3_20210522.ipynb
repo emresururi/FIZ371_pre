{
 "cells": [
  {
   "cell_type": "markdown",
   "metadata": {},
   "source": [
    "# Group Homework #3\n",
    "FIZ371 - Scientific and Technical Calculations | Due Date: 04/06/2021"
   ]
  },
  {
   "cell_type": "markdown",
   "metadata": {},
   "source": [
    "## Ising Model Probabilities\n",
    "\n",
    "1. Show that a flip of the spin $x_n$ of site $n$ indeed changes the energy by:\n",
    "\n",
    "$$\\Delta E=2x_n b_n$$\n",
    "\n",
    "\n",
    "2. Show that the probbility of a spin being +1 given the state of the other spins ($b_n$) and the temperature ($\\beta$) is:\n",
    "\n",
    "$$P(+1|b_n)=\\frac{1}{1+exp(-2\\beta b_n)}$$\n",
    "\n",
    "<hr>\n",
    "\n",
    "In both questions above, $b_n$ is the local field defined as:\n",
    "\n",
    "$$b_n = \\sum_{m:(m,n)\\in\\mathcal{N}}{Jx_m + H}$$\n",
    "\n",
    "and: $\\beta = \\frac{1}{k_b T}$.\n"
   ]
  },
  {
   "cell_type": "markdown",
   "metadata": {},
   "source": [
    "## Secretary Problem\n",
    "\n",
    "Imagine a situation where you are looking for a secretary and evaluating the applicants. Once you interview an applicant, you immediately have an evaluation of them (say, a grade between 1-100, with 100 being perfect) but the catch is, you have to make an instant decision whether to hire them or send them away.\n",
    "\n",
    "* You can't continue evaluating the remaining applicants once you hire the current one and,\n",
    "* You can't call back a previously dismissed applicant.\n",
    "\n",
    "Show that, for a sufficiently high number $N$ of applicants, the winning strategy is:\n",
    "1. Interview $\\frac{N}{e}$ number of applicants, note the highest grade.\n",
    "2. Hire the first one whose grade is higher than the noted grade.\n"
   ]
  },
  {
   "cell_type": "markdown",
   "metadata": {},
   "source": [
    "## Frequent Words\n",
    "Find the most frequently used 20 words in Turkish language. Compare it against google's (or your mobile phone's auto-complete suggestions).\n",
    "\n",
    "It is not sufficient to directly find a list of \"most frequently used words\" on the internet -- you must also supply with what methods and sources it was calculated (referencing is not enough). Or, you can do it yourselves! ;)"
   ]
  },
  {
   "cell_type": "code",
   "execution_count": null,
   "metadata": {},
   "outputs": [],
   "source": []
  }
 ],
 "metadata": {
  "kernelspec": {
   "display_name": "Python 3",
   "language": "python",
   "name": "python3"
  },
  "language_info": {
   "codemirror_mode": {
    "name": "ipython",
    "version": 3
   },
   "file_extension": ".py",
   "mimetype": "text/x-python",
   "name": "python",
   "nbconvert_exporter": "python",
   "pygments_lexer": "ipython3",
   "version": "3.8.5"
  }
 },
 "nbformat": 4,
 "nbformat_minor": 4
}
