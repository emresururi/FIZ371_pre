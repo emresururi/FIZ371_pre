{
 "cells": [
  {
   "cell_type": "markdown",
   "metadata": {},
   "source": [
    "# Grup Ödevi #1\n",
    "FIZ371 - Bilimsel ve Teknik Hesaplamalar | Teslim Tarihi: 23/03/2021"
   ]
  },
  {
   "cell_type": "markdown",
   "metadata": {},
   "source": [
    "## Central Limit Theorem\n",
    "Elinizde aşağıdaki olasılık dağılımına uygun şekilde sonuçlar veren hileli bir zar var:"
   ]
  },
  {
   "cell_type": "code",
   "execution_count": 23,
   "metadata": {},
   "outputs": [
    {
     "name": "stdout",
     "output_type": "stream",
     "text": [
      "Ağırlıklar: \n",
      "0.296 0.148 0.074 0.037 0.185 0.259 \n"
     ]
    }
   ],
   "source": [
    "import numpy as np\n",
    "p = np.array([8,4,2,1,5,7]) # Ağırlıklar\n",
    "p = p/np.sum(p) # Normalize ediyoruz\n",
    "print((\"Ağırlıklar: \\n\"+\"{:.3f} \"*6).format(*p))"
   ]
  },
  {
   "cell_type": "code",
   "execution_count": 26,
   "metadata": {},
   "outputs": [
    {
     "name": "stdout",
     "output_type": "stream",
     "text": [
      "[0 1 2 3 4 5]\n"
     ]
    },
    {
     "data": {
      "text/plain": [
       "2.444444444444444"
      ]
     },
     "execution_count": 26,
     "metadata": {},
     "output_type": "execute_result"
    }
   ],
   "source": [
    "p\n",
    "x = np.arange(6)\n",
    "print(x)\n",
    "np.dot(p,x)"
   ]
  },
  {
   "cell_type": "markdown",
   "metadata": {},
   "source": [
    "1. Bu dağılımı kullanarak 1000 atış yapın, bu atışın histogramını hesaplatın çizdirin.\n",
    "2. 1000 atışta elde ettiğiniz sayıların ortalamasını hesaplatın.\n",
    "3. Her seferinde 1000 atış olmak üzere, 10000 deneme yapın, her denemede gelen 1000 sayının ortalamasını hesaplayıp, `ortalamalar` isimli bir diziye atın (örneğin ortalamalar dizisinin 7896. elemanı, 7896. kez 1000 atış yaptığınızda gelen 1000 sayının ortalama değerini içeriyor olacak).\n",
    "4. `ortalamalar` dizisinin histogramını hesaplatıp 10, 50 ve 100 kutu için çizdirin.\n",
    "\n",
    "**Bonus** 4. adımda oluşturduğunuz histogramları Gaussyenlere fit edin."
   ]
  },
  {
   "cell_type": "markdown",
   "metadata": {},
   "source": [
    "## Çözüm\n",
    "Bu iş için en uygunu [Olasılıklar](https://github.com/emresururi/FIZ371/blob/main/FIZ371_LN02_EST_Probabilities.ipynb) ders notlarında da gördüğümüz `random.choice()` metodunu kullanmak ama tabii ki yüzlerce farklı şekilde çözülebilir."
   ]
  },
  {
   "cell_type": "code",
   "execution_count": 2,
   "metadata": {},
   "outputs": [],
   "source": [
    "import numpy as np\n",
    "import matplotlib.pyplot as plt\n",
    "import scipy.stats as spstats"
   ]
  },
  {
   "cell_type": "code",
   "execution_count": 3,
   "metadata": {},
   "outputs": [
    {
     "name": "stdout",
     "output_type": "stream",
     "text": [
      "Mean of the 1000 sample: 2.36800\n"
     ]
    }
   ],
   "source": [
    "N = 1000\n",
    "p = np.array([8,4,2,1,5,7])\n",
    "p = p/np.sum(p)\n",
    "data = np.random.choice(6,size=(N),p=p)\n",
    "print(\"Mean of the {:} sample: {:.5f}\".format(N,np.mean(data)))"
   ]
  },
  {
   "cell_type": "code",
   "execution_count": 4,
   "metadata": {},
   "outputs": [
    {
     "data": {
      "text/plain": [
       "(array([313,   0, 140,   0,  94,   0,  17,   0, 191, 245]),\n",
       " array([0. , 0.5, 1. , 1.5, 2. , 2.5, 3. , 3.5, 4. , 4.5, 5. ]))"
      ]
     },
     "execution_count": 4,
     "metadata": {},
     "output_type": "execute_result"
    }
   ],
   "source": [
    "np.histogram(data)"
   ]
  },
  {
   "cell_type": "code",
   "execution_count": 5,
   "metadata": {},
   "outputs": [
    {
     "data": {
      "image/png": "[encoded data removed]",
      "text/plain": [
       "<Figure size 432x288 with 1 Axes>"
      ]
     },
     "metadata": {
      "needs_background": "light"
     },
     "output_type": "display_data"
    }
   ],
   "source": [
    "hist_data = plt.hist(data,bins=6)\n",
    "data_mean = np.mean(data)\n",
    "plt.plot([data_mean,data_mean],[0,np.max(hist_data[0])],\"r-\")\n",
    "plt.show()"
   ]
  },
  {
   "cell_type": "markdown",
   "metadata": {},
   "source": [
    "Şeklinde, bir çalıştırmanın sonucunu görebiliyoruz. Yukarıdaki figürde kırmızı çizgi ortalamayı temsil ediyor.\n",
    "\n",
    "Bunu 10000 kere çalıştırmak için fonksiyonlaştırmak pratik olacaktır:"
   ]
  },
  {
   "cell_type": "code",
   "execution_count": 6,
   "metadata": {},
   "outputs": [],
   "source": [
    "def mean_of_N_times_roll_of_p(N,p):\n",
    "    # Given the probability weight p, \n",
    "    # Picks N samples, returns the mean\n",
    "    list_picked = np.random.choice(len(p),size=(N),p=p)\n",
    "    return np.mean(list_picked)"
   ]
  },
  {
   "cell_type": "raw",
   "metadata": {},
   "source": [
    "Bu şekilde tek bir kere çalıştıralım:"
   ]
  },
  {
   "cell_type": "code",
   "execution_count": 17,
   "metadata": {},
   "outputs": [
    {
     "data": {
      "text/plain": [
       "2.362"
      ]
     },
     "execution_count": 17,
     "metadata": {},
     "output_type": "execute_result"
    }
   ],
   "source": [
    "# print(p)\n",
    "mean_of_N_times_roll_of_p(1000,p)"
   ]
  },
  {
   "cell_type": "markdown",
   "metadata": {},
   "source": [
    "10000 kere çalıştıralım:\n",
    "(geçen süreyi hesaplamak için de `time` modülünü kullanıyoruz)"
   ]
  },
  {
   "cell_type": "code",
   "execution_count": 8,
   "metadata": {},
   "outputs": [],
   "source": [
    "import time"
   ]
  },
  {
   "cell_type": "code",
   "execution_count": 19,
   "metadata": {},
   "outputs": [
    {
     "name": "stdout",
     "output_type": "stream",
     "text": [
      "\n",
      "Finished in 6.82 seconds.\n"
     ]
    }
   ],
   "source": [
    "NN = 100000\n",
    "\n",
    "N = 1000\n",
    "p = np.array([8,4,2,1,5,7])\n",
    "p = p/np.sum(p)\n",
    "\n",
    "means = []\n",
    "start = time.perf_counter()\n",
    "for i in range(NN):\n",
    "    means.append(mean_of_N_times_roll_of_p(N,p))\n",
    "\n",
    "finish = time.perf_counter()\n",
    "print(\"\\nFinished in {:.2f} seconds.\".format(finish-start))"
   ]
  },
  {
   "cell_type": "markdown",
   "metadata": {},
   "source": [
    "Bilgileri alalım:"
   ]
  },
  {
   "cell_type": "code",
   "execution_count": 21,
   "metadata": {},
   "outputs": [
    {
     "name": "stdout",
     "output_type": "stream",
     "text": [
      "1000 samples picked 100000 times.\n",
      "\n",
      "Means of each pick goes like 2.424, 2.438, 2.336, 2.443, 2.302, ...\n",
      "Means of means     : 2.44419\n",
      "Variance of means  : 0.00422\n",
      "Std. dev. of means : 0.06493\n"
     ]
    }
   ],
   "source": [
    "print(\"{:} samples picked {:} times.\\n\".format(N,NN))\n",
    "print((\"Means of each pick goes like \"+\"{:.3f}, \"*5+\"...\")\\\n",
    "      .format(*means[:5]))\n",
    "print(\"Means of means     : {:.5f}\".format(np.mean(means)))\n",
    "print(\"Variance of means  : {:.5f}\".format(np.var(means)))\n",
    "print(\"Std. dev. of means : {:.5f}\".format(np.std(means)))"
   ]
  },
  {
   "cell_type": "code",
   "execution_count": 20,
   "metadata": {},
   "outputs": [
    {
     "data": {
      "text/plain": [
       "100000"
      ]
     },
     "execution_count": 20,
     "metadata": {},
     "output_type": "execute_result"
    }
   ],
   "source": [
    "len(means)"
   ]
  },
  {
   "cell_type": "code",
   "execution_count": 27,
   "metadata": {
    "scrolled": true
   },
   "outputs": [
    {
     "data": {
      "image/png": "[encoded data removed]",
      "text/plain": [
       "<Figure size 432x288 with 1 Axes>"
      ]
     },
     "metadata": {
      "needs_background": "light"
     },
     "output_type": "display_data"
    }
   ],
   "source": [
    "hist_values = plt.hist(means,bins=50)\n",
    "plt.show()"
   ]
  },
  {
   "cell_type": "code",
   "execution_count": 30,
   "metadata": {},
   "outputs": [
    {
     "name": "stdout",
     "output_type": "stream",
     "text": [
      "(array([2.000e+00, 4.000e+00, 6.000e+00, 1.100e+01, 2.500e+01, 3.100e+01,\n",
      "       6.700e+01, 1.210e+02, 1.630e+02, 2.330e+02, 3.910e+02, 5.980e+02,\n",
      "       9.490e+02, 1.145e+03, 1.614e+03, 2.060e+03, 2.657e+03, 3.404e+03,\n",
      "       4.033e+03, 4.618e+03, 5.380e+03, 6.002e+03, 6.395e+03, 6.641e+03,\n",
      "       6.760e+03, 7.200e+03, 6.374e+03, 5.842e+03, 5.319e+03, 4.699e+03,\n",
      "       3.840e+03, 3.381e+03, 2.679e+03, 2.118e+03, 1.570e+03, 1.202e+03,\n",
      "       8.510e+02, 6.120e+02, 3.800e+02, 2.490e+02, 1.610e+02, 8.000e+01,\n",
      "       5.600e+01, 3.400e+01, 2.100e+01, 7.000e+00, 5.000e+00, 5.000e+00,\n",
      "       4.000e+00, 1.000e+00]), array([2.173  , 2.18408, 2.19516, 2.20624, 2.21732, 2.2284 , 2.23948,\n",
      "       2.25056, 2.26164, 2.27272, 2.2838 , 2.29488, 2.30596, 2.31704,\n",
      "       2.32812, 2.3392 , 2.35028, 2.36136, 2.37244, 2.38352, 2.3946 ,\n",
      "       2.40568, 2.41676, 2.42784, 2.43892, 2.45   , 2.46108, 2.47216,\n",
      "       2.48324, 2.49432, 2.5054 , 2.51648, 2.52756, 2.53864, 2.54972,\n",
      "       2.5608 , 2.57188, 2.58296, 2.59404, 2.60512, 2.6162 , 2.62728,\n",
      "       2.63836, 2.64944, 2.66052, 2.6716 , 2.68268, 2.69376, 2.70484,\n",
      "       2.71592, 2.727  ]), <BarContainer object of 50 artists>)\n",
      "0.011079999999999757\n"
     ]
    }
   ],
   "source": [
    "print(hist_values)\n",
    "print(hist_values [1][2]- hist_values[1][1])"
   ]
  },
  {
   "cell_type": "markdown",
   "metadata": {},
   "source": [
    "Gaussian'a fit etmek için öncelikle yukarıdaki figürün alanını hesaplıyoruz, Gaussian'ın alanı normalize olduğundan, o alanla Gaussian'ı çarpıyoruz:"
   ]
  },
  {
   "cell_type": "code",
   "execution_count": 31,
   "metadata": {},
   "outputs": [
    {
     "data": {
      "image/png": "[encoded data removed]",
      "text/plain": [
       "<Figure size 432x288 with 1 Axes>"
      ]
     },
     "metadata": {
      "needs_background": "light"
     },
     "output_type": "display_data"
    }
   ],
   "source": [
    "# Fit it to a Gaussian:\n",
    "\n",
    "n_bins = 100\n",
    "#dx = (-np.min(means)+np.max(means))/n_bins\n",
    "dx_hist = hist_values[1][1] - hist_values[1][0]\n",
    "integral = dx_hist*np.sum(hist_values[0])\n",
    "\n",
    "plt.hist(means,bins=50)\n",
    "plt.plot(hist_values[1],integral*spstats.norm.pdf\\\n",
    "         (hist_values[1],np.mean(means),np.std(means)),\"r-\")\n",
    "plt.show()"
   ]
  },
  {
   "cell_type": "markdown",
   "metadata": {},
   "source": [
    "Yukarıda Gaussian'ın merkezini ($\\mu$) ve dağılımını ($\\sigma$) doğrudan veriler üzerinden hesapladığımıza dikkat edin."
   ]
  },
  {
   "cell_type": "markdown",
   "metadata": {},
   "source": [
    "## Oyun Teorisi\n",
    "### Mahkûmun İkilemi (Prisoner's Dilemma)\n",
    "Prisoner's Dilemma oyunu için ödül tablosundaki değerleri kullanarak mahkûmların biri için:\n",
    "1. Ele verme ve sessiz kalma ihtimalini hesaplayın.\n",
    "2. İkisinin de birbirini ele vermelerinin ihtimalini hesaplayın.\n",
    "3. Beklenen (ortalama) ödül değerini hesaplayın."
   ]
  },
  {
   "cell_type": "markdown",
   "metadata": {},
   "source": [
    "### Çözüm\n",
    "Mahkûmun İkilemi oyunu için kazanç tablosunu gözden geçirelim:"
   ]
  },
  {
   "cell_type": "markdown",
   "metadata": {},
   "source": [
    "\n",
    "|    | Bs  | Bd  |\n",
    "|----|-----|-----|\n",
    "| **As** | 2,2 | 0,3 |\n",
    "| **Ad** | 3,0 | 1,1 |"
   ]
  },
  {
   "cell_type": "markdown",
   "metadata": {},
   "source": [
    "Bu tabloya bakarak denklemlerimizi oluşturursak:\n",
    "\n",
    "$$A_s = \\frac{2.B_s + 0.B_d}{2.B_s + 0.B_d+3.B_s+1.B_d}=\\frac{2B_s}{4B_s + 1}$$\n",
    "\n",
    "\n",
    "$$A_d = \\frac{3.B_s + 1.B_d}{2.B_s + 0.B_d+3.B_s+1.B_d}=\\frac{2B_s+1}{4B_s + 1}$$\n",
    "\n",
    "\n",
    "$$B_s = \\frac{2.A_s + 0.A_d}{2.A_s + 0.A_d+3.A_s+1.A_d}=\\frac{2A_s}{4A_s + 1}$$\n",
    "\n",
    "\n",
    "$$B_d = \\frac{3.A_s + 1.A_d}{2.A_s + 0.A_d+3.A_s+1.A_d}=\\frac{2A_s+1}{4A_s + 1}$$\n",
    "\n",
    "Tabii bir de, her mahkûm için iki olasılık olduğundan:\n",
    "\n",
    "$$A_s+A_d = B_s + B_d = 1$$\n",
    "\n",
    "doğal şartı var (yukarıdaki denklemlerde pay ve paydaları sadeleştirirken açık açık belirtmeden, otomatik olarak kullandık bile ;).\n",
    "\n",
    "Denklemler lineer değiller ve $A_s$ $B_s$ ile, $A_d$ de $B_d$ ile fena halde çiftlenmiş (_coupled_) durumdalar. Nasıl çözeceğiz?\n"
   ]
  },
  {
   "cell_type": "markdown",
   "metadata": {},
   "source": [
    "Çözüm için matematikten dışarı bir adım atıp, kafamızı ve yorumlama yeteneğimizi (\"muhakeme kabiliyetimizi\") kullanacağız. Ödül tablosu açık bir şekilde simetrik. Bunun sebebi A mahkûmu ile B mahkûmu arasında bir fark olmaması. İkisi de benzer şartlarda, benzer durumda. Bu sebepten dolayı ikisinin de sessiz kalma veya ele verme ihtimalleri birbirlerine eşit olmalı (yani $A_s = B_s$ ve $A_d = B_d$)!\n",
    "\n",
    "Bu durumu gözümüzde daha iyi canlandırabilmek için, birbirinin aynı iki tane hileli paramız olduğunu varsayalım. Diyelim ki iki para da 1/4 ihtimalle yazı, 3/4 ihtimalle tura geliyor. Bu durumda, hangi parayı ele alıp attığımızın bir farkı olmaz."
   ]
  },
  {
   "cell_type": "markdown",
   "metadata": {},
   "source": [
    "Bu yeni denklemle donanmış olarak tekrardan ilk denklemimizi yazalım:\n",
    "\n",
    "$$A_s = \\frac{2B_s}{4B_s + 1} \\rightarrow A_s=  \\frac{2A_s}{4A_s + 1}\\Rightarrow \\boxed{A_s = \\frac{1}{4}}$$"
   ]
  },
  {
   "cell_type": "markdown",
   "metadata": {},
   "source": [
    "Böylelikle:\n",
    "\n",
    "$$ A_s = B_s = \\frac{1}{4}$$\n",
    "\n",
    "$$ A_d = B_d = \\frac{3}{4}$$\n",
    "\n",
    "şeklinde olasılıklar bulunmuş olur."
   ]
  },
  {
   "cell_type": "markdown",
   "metadata": {},
   "source": [
    "<hr>\n",
    "<div class=\"alert alert-block alert-info\">\n",
    "    <h4> Alternatif Yöntem</h4>\n",
    "Derste sevgili Uğur'un önerdiği şekilde, matematiğin içinde kalarak da çözmemiz mümkün (ama hiç eğlenceli değil açıkçası):\n",
    "\n",
    "1\\. denklemde $B_s$ gördüğümüz yere 3. denklemdeki $A_s$ karşılığını yazalım:\n",
    "\n",
    "$$B_s =\\frac{2A_s}{4A_s + 1}\\rightarrow A_s = \\frac{2B_s}{4B_s + 1} = \\frac{2 \\left(\\frac{2A_s}{4A_s + 1}\\right)}{4\\left(\\frac{2A_s}{4A_s + 1}\\right)+1}$$\n",
    "\n",
    "\n",
    "\n",
    "Bunu açıp dağıttığımızda:\n",
    "$$A_s =  \\frac{ \\frac{4A_s}{4A_s + 1}}{\\frac{8A_s}{4A_s + 1}+\\frac{4A_s + 1}{4A_s + 1}}=\\frac{4A_s}{8A_s+(4A_s+1)}=\\frac{4A_s}{12A_s+1}$$\n",
    "\n",
    "içler-dışlar çarpımından:\n",
    "\n",
    "\\begin{gather*}\n",
    "12A_s^2+A_s = 4A_s\\\\\n",
    "12A_s + 1 = 4\\\\\n",
    "12A_s =3\\\\\n",
    "\\boxed{A_s = \\frac{1}{4}}\n",
    "\\end{gather*}\n",
    "\n",
    "bulunur.\n",
    "    </div>\n",
    "<hr>"
   ]
  },
  {
   "cell_type": "markdown",
   "metadata": {},
   "source": [
    "İkisinin de karşılıklı olarak birbirini ele vermelerinin ihtimaline gelirsek:\n",
    "\n",
    "$$P_d = A_d B_d = \\frac{3}{4}\\cdot\\frac{3}{4}=\\frac{9}{16}$$"
   ]
  },
  {
   "cell_type": "markdown",
   "metadata": {},
   "source": [
    "Beklenen ödül(/kazanç) değeri ise:\n",
    "\n",
    "\\begin{align*} E_A &= A_s B_s E_A(a_s\\wedge b_s) +A_s B_d E_A(a_s\\wedge b_d)\\\\\n",
    "&+A_d B_s E_A(a_d\\wedge b_s) +A_d B_d E_A(a_d\\wedge b_d)\\\\\n",
    "&=\\frac{1}{4}\\cdot\\frac{1}{4}\\cdot 2+\\frac{1}{4}\\cdot\\frac{3}{4}\\cdot 0+\\frac{3}{4}\\cdot\\frac{1}{4}\\cdot 3+\\frac{3}{4}\\cdot\\frac{3}{4}\\cdot 1 =\\frac{20}{16}=\\frac{5}{4} \\\\&= 1.25 \n",
    "\\end{align*}"
   ]
  },
  {
   "cell_type": "markdown",
   "metadata": {},
   "source": [
    "### Korsan Oyunu (Pirate Game)\n",
    "[Korsan Oyunu'nun çözümünü](https://en.wikipedia.org/wiki/Pirate_game) çalışıp, anlayın.\n",
    "\n",
    "### Prisonner's Dilemma, with memory\n",
    "(Geçen seneden doğrudan alıntıladığımdan, İngilizce olarak veriyorum, siz Türkçe yazabilirsiniz tabii ki! 8)\n",
    "\n",
    "Consider the prisoner's dilemma with the following pay-off table:\n",
    "\n",
    "\n",
    "|    | Bs  | Bd  |\n",
    "|----|-----|-----|\n",
    "| **As** | 2,2 | 0,3 |\n",
    "| **Ad** | 3,0 | 1,1 |\n",
    "\n",
    "Instead of being a one-time only, thing, imagine where this process is repeated N times (N≫) and each of the players remembers what their opponent did in the previous rounds.\n",
    "\n",
    "Device a strategy in the form of an algorithm so that it can be implemented into computer code and competed against the others strategies to find the winner.\n",
    "\n",
    "Here are the limitations and features of the process:\n",
    "\n",
    "1. The past responses of yours and your opponents will be stored in a (N×2) array (named arr_history) where each row is a past round, the 1st column is your response and the 2nd column being your opponent's response in that roung. You have access to this array anytime you want.\n",
    "2. At the beginning of each round you and your opponent will be asked about your response for that round. Both of you will be uninformed about the other's response until the two responses are revealed at the same time.\n",
    "\n",
    "This procedure will be repeated for N=10000 times. At the end, the winner will be decided by the points accumulated (the more points, the better). Your strategy will be competed against the others' in a league style face-off."
   ]
  },
  {
   "cell_type": "code",
   "execution_count": null,
   "metadata": {},
   "outputs": [],
   "source": []
  }
 ],
 "metadata": {
  "kernelspec": {
   "display_name": "Python 3",
   "language": "python",
   "name": "python3"
  },
  "language_info": {
   "codemirror_mode": {
    "name": "ipython",
    "version": 3
   },
   "file_extension": ".py",
   "mimetype": "text/x-python",
   "name": "python",
   "nbconvert_exporter": "python",
   "pygments_lexer": "ipython3",
   "version": "3.8.5"
  }
 },
 "nbformat": 4,
 "nbformat_minor": 4
}
