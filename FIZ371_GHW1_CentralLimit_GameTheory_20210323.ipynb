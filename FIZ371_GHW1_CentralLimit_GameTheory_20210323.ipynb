{
 "cells": [
  {
   "cell_type": "markdown",
   "metadata": {},
   "source": [
    "# Grup Ödevi #1\n",
    "FIZ371 - Bilimsel ve Teknik Hesaplamalar | Teslim Tarihi: 23/03/2021"
   ]
  },
  {
   "cell_type": "markdown",
   "metadata": {},
   "source": [
    "## Central Limit Theorem\n",
    "Elinizde aşağıdaki olasılık dağılımına uygun şekilde sonuçlar veren hileli bir zar var:"
   ]
  },
  {
   "cell_type": "code",
   "execution_count": 4,
   "metadata": {},
   "outputs": [
    {
     "name": "stdout",
     "output_type": "stream",
     "text": [
      "Ağırlıklar: \n",
      "0.296 0.148 0.074 0.037 0.185 0.259 \n"
     ]
    }
   ],
   "source": [
    "import numpy as np\n",
    "p = np.array([8,4,2,1,5,7]) # Ağırlıklar\n",
    "p = p/np.sum(p) # Normalize ediyoruz\n",
    "print((\"Ağırlıklar: \\n\"+\"{:.3f} \"*6).format(*p))"
   ]
  },
  {
   "cell_type": "markdown",
   "metadata": {},
   "source": [
    "1. Bu dağılımı kullanarak 1000 atış yapın, bu atışın histogramını hesaplatın çizdirin.\n",
    "2. 1000 atışta elde ettiğiniz sayıların ortalamasını hesaplatın.\n",
    "3. Her seferinde 1000 atış olmak üzere, 10000 deneme yapın, her denemede gelen 1000 sayının ortalamasını hesaplayıp, `ortalamalar` isimli bir diziye atın (örneğin ortalamalar dizisinin 7896. elemanı, 7896. kez 1000 atış yaptığınızda gelen 1000 sayının ortalama değerini içeriyor olacak).\n",
    "4. `ortalamalar` dizisinin histogramını hesaplatıp 10, 50 ve 100 kutu için çizdirin.\n",
    "\n",
    "**Bonus** 4. adımda oluşturduğunuz histogramları Gaussyenlere fit edin."
   ]
  },
  {
   "cell_type": "markdown",
   "metadata": {},
   "source": [
    "## Oyun Teorisi\n",
    "### Mahkûmun İkilemi (Prisoner's Dilemma)\n",
    "Prisoner's Dilemma oyunu için ödül tablosundaki değerleri kullanarak mahkûmların biri için:\n",
    "1. Ele verme ve sessiz kalma ihtimalini hesaplayın.\n",
    "2. İkisinin de birbirini ele vermelerinin ihtimalini hesaplayın.\n",
    "3. Beklenen (ortalama) ödül değerini hesaplayın.\n",
    "\n",
    "### Korsan Oyunu (Pirate Game)\n",
    "[Korsan Oyunu'nun çözümünü](https://en.wikipedia.org/wiki/Pirate_game) çalışıp, anlayın.\n",
    "\n",
    "### Prisonner's Dilemma, with memory\n",
    "(Geçen seneden doğrudan alıntıladığımdan, İngilizce olarak veriyorum, siz Türkçe yazabilirsiniz tabii ki! 8)\n",
    "\n",
    "Consider the prisoner's dilemma with the following pay-off table:\n",
    "\n",
    "\n",
    "|    | Bs  | Bd  |\n",
    "|----|-----|-----|\n",
    "| **As** | 2,2 | 0,3 |\n",
    "| **Ad** | 3,0 | 1,1 |\n",
    "\n",
    "Instead of being a one-time only, thing, imagine where this process is repeated N times (N≫) and each of the players remembers what their opponent did in the previous rounds.\n",
    "\n",
    "Device a strategy in the form of an algorithm so that it can be implemented into computer code and competed against the others strategies to find the winner.\n",
    "\n",
    "Here are the limitations and features of the process:\n",
    "\n",
    "1. The past responses of yours and your opponents will be stored in a (N×2) array (named arr_history) where each row is a past round, the 1st column is your response and the 2nd column being your opponent's response in that roung. You have access to this array anytime you want.\n",
    "2. At the beginning of each round you and your opponent will be asked about your response for that round. Both of you will be uninformed about the other's response until the two responses are revealed at the same time.\n",
    "\n",
    "This procedure will be repeated for N=10000 times. At the end, the winner will be decided by the points accumulated (the more points, the better). Your strategy will be competed against the others' in a league style face-off."
   ]
  }
 ],
 "metadata": {
  "kernelspec": {
   "display_name": "Python 3",
   "language": "python",
   "name": "python3"
  },
  "language_info": {
   "codemirror_mode": {
    "name": "ipython",
    "version": 3
   },
   "file_extension": ".py",
   "mimetype": "text/x-python",
   "name": "python",
   "nbconvert_exporter": "python",
   "pygments_lexer": "ipython3",
   "version": "3.8.5"
  }
 },
 "nbformat": 4,
 "nbformat_minor": 4
}
