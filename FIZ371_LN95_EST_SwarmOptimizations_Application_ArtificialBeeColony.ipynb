{
 "cells": [
  {
   "cell_type": "markdown",
   "metadata": {},
   "source": [
    "## Swarm Optimizations Hands-on Applications\n",
    "**FIZ371 - Scientific & Technical Computations | 24/05/2021**\n",
    "\n",
    "* Ant Colony Optimization\n",
    "* **Artificial Bee Colony**\n",
    "\n",
    "Dr. Emre S. Tasci <emre.tasci@hacettepe.edu.tr>"
   ]
  },
  {
   "cell_type": "code",
   "execution_count": 1,
   "metadata": {},
   "outputs": [],
   "source": [
    "import numpy as np\n",
    "import matplotlib.pyplot as plt"
   ]
  },
  {
   "cell_type": "code",
   "execution_count": 2,
   "metadata": {},
   "outputs": [],
   "source": [
    "def fun(x):\n",
    "    return np.sin(x/2)/x +(-1)**np.round(x*1.25) * np.heaviside(x-2,1.5)*0.20"
   ]
  },
  {
   "cell_type": "code",
   "execution_count": 3,
   "metadata": {},
   "outputs": [
    {
     "data": {
      "image/png": "[encoded data removed]",
      "text/plain": [
       "<Figure size 432x288 with 1 Axes>"
      ]
     },
     "metadata": {
      "needs_background": "light"
     },
     "output_type": "display_data"
    }
   ],
   "source": [
    "x_min = -300\n",
    "x_max =  150\n",
    "x_delta = x_max - x_min\n",
    "neighbourhood = x_delta / 50\n",
    "\n",
    "x = np.linspace(x_min,x_max,500)\n",
    "y = fun(x)\n",
    "plt.plot(x,y,\"r-\")\n",
    "plt.show()"
   ]
  },
  {
   "cell_type": "code",
   "execution_count": 4,
   "metadata": {
    "scrolled": true
   },
   "outputs": [
    {
     "data": {
      "image/png": "[encoded data removed]",
      "text/plain": [
       "<Figure size 432x288 with 1 Axes>"
      ]
     },
     "metadata": {
      "needs_background": "light"
     },
     "output_type": "display_data"
    }
   ],
   "source": [
    "N = 100 # Number of bees\n",
    "\n",
    "# Distribute the bees randomly\n",
    "xs = x_min + np.random.rand(N) * x_delta\n",
    "ys = fun(xs)\n",
    "\n",
    "plt.plot(x,y,\"r-\")\n",
    "plt.plot(xs,ys,\"bo\",markersize=2.0)\n",
    "plt.show()"
   ]
  },
  {
   "cell_type": "code",
   "execution_count": 5,
   "metadata": {
    "scrolled": false
   },
   "outputs": [
    {
     "name": "stdout",
     "output_type": "stream",
     "text": [
      "[ 0.23403234  0.21619961  0.21427205  0.2070134   0.20398596  0.2027654\n",
      "  0.19949759  0.19709637  0.19357576  0.19325441  0.19289011  0.19194718\n",
      "  0.18778734  0.18618732  0.18616816  0.18023746  0.17585771  0.09778483\n",
      "  0.02050297  0.0130822   0.0109774   0.00843695  0.00685335  0.00514947\n",
      "  0.004724    0.00469982  0.00469873  0.00447176  0.00435774  0.00426653\n",
      "  0.00392963  0.00379671  0.00369867  0.00365416  0.00359185  0.00338443\n",
      "  0.00327148  0.00305826  0.00249951  0.00235445  0.00162747  0.00123023\n",
      "  0.00084977  0.00079688  0.00041176 -0.00059877 -0.00094254 -0.00120771\n",
      " -0.00121273 -0.00126783 -0.00131753 -0.00148389 -0.00265707 -0.00293559\n",
      " -0.0031484  -0.00329939 -0.00353481 -0.00365446 -0.00413324 -0.00415531\n",
      " -0.00431399 -0.00461799 -0.00469219 -0.00480359 -0.00520632 -0.00548269\n",
      " -0.0059618  -0.0066515  -0.00805686 -0.00809671 -0.01190658 -0.01289675\n",
      " -0.01376936 -0.0211035  -0.02644335 -0.02862773 -0.02898479 -0.03876826\n",
      " -0.17253579 -0.18616343 -0.19224171 -0.19389895 -0.1967139  -0.19953619\n",
      " -0.20033357 -0.20105288 -0.20169992 -0.20275052 -0.20332085 -0.20357864\n",
      " -0.20376024 -0.2048857  -0.20622909 -0.20854071 -0.2100201  -0.21380483\n",
      " -0.22894125 -0.231256   -0.2910184  -0.29331719]\n"
     ]
    }
   ],
   "source": [
    "maxes = -np.sort(-ys)\n",
    "print(maxes)"
   ]
  },
  {
   "cell_type": "code",
   "execution_count": 6,
   "metadata": {},
   "outputs": [
    {
     "name": "stdout",
     "output_type": "stream",
     "text": [
      "[127.88930082  30.38657935 105.94222971  65.22560969  28.70505025]\n"
     ]
    }
   ],
   "source": [
    "print(xs[ys > maxes[5]])\n"
   ]
  },
  {
   "cell_type": "code",
   "execution_count": 7,
   "metadata": {},
   "outputs": [
    {
     "name": "stdout",
     "output_type": "stream",
     "text": [
      "There are 4 super-sites and 6 meh sites.\n",
      "\n",
      "Number of followers allocated for the super sites: 35\n",
      "There will be 8 per super site, with an overhead of 3\n",
      "---------------------------------------------\n",
      "Number of followers allocated for the meh sites: 15\n",
      "There will be 2 per meh site, with an overhead of 3\n",
      "\n",
      "The range is [-300,150] and the neighbourhood is 9.00\n"
     ]
    }
   ],
   "source": [
    "n_scouts = int(np.ceil(N/10))\n",
    "n_supers = np.random.randint(n_scouts/2)+1\n",
    "n_mehs   = n_scouts - n_supers\n",
    "  \n",
    "n_super_followers = np.random.randint(N*0.25,N*0.40)\n",
    "n_meh_followers = int(N/2) - n_super_followers\n",
    "n_random_fliers = N - n_super_followers - n_meh_followers\n",
    "\n",
    "n_per_super_min = int(np.floor(n_super_followers/n_supers))\n",
    "n_super_plus = n_super_followers - n_per_super_min * n_supers\n",
    "\n",
    "n_per_meh_min = int(np.floor(n_meh_followers/n_mehs))\n",
    "n_meh_plus = n_meh_followers - n_per_meh_min * n_mehs\n",
    "\n",
    "\n",
    "print(\"There are {:} super-sites and {:} meh sites.\\n\"\\\n",
    "      .format(n_supers,n_mehs))\n",
    "print(\"Number of followers allocated for the super sites: {}\"\\\n",
    "     .format(n_super_followers))\n",
    "print(\"There will be {:} per super site, with an overhead of {:}\"\\\n",
    "     .format(n_per_super_min,n_super_plus))\n",
    "print(\"-\"*45)\n",
    "print(\"Number of followers allocated for the meh sites: {}\"\\\n",
    "     .format(n_meh_followers))\n",
    "print(\"There will be {:} per meh site, with an overhead of {:}\"\\\n",
    "     .format(n_per_meh_min,n_meh_plus))\n",
    "print(\"\\nThe range is [{:},{:}] and the neighbourhood is {:.2f}\"\\\n",
    "     .format(x_min,x_max,neighbourhood))"
   ]
  },
  {
   "cell_type": "code",
   "execution_count": 8,
   "metadata": {},
   "outputs": [
    {
     "name": "stdout",
     "output_type": "stream",
     "text": [
      "[[127.88930082   0.2070134 ]\n",
      " [ 30.38657935   0.21619961]\n",
      " [ 65.22560969   0.21427205]\n",
      " [ 28.70505025   0.23403234]]\n",
      "[127.88930082  30.38657935  65.22560969  28.70505025] \n",
      " [0.2070134  0.21619961 0.21427205 0.23403234]\n",
      "---------------------------------------------\n",
      "[[147.44729461   0.19325441]\n",
      " [105.94222971   0.20398596]\n",
      " [100.43000739   0.19949759]\n",
      " [ 49.97424035   0.19709637]\n",
      " [ 56.23636856   0.2027654 ]\n",
      " [136.10188122   0.19357576]]\n",
      "[147.44729461 105.94222971 100.43000739  49.97424035  56.23636856\n",
      " 136.10188122] \n",
      " [0.19325441 0.20398596 0.19949759 0.19709637 0.2027654  0.19357576]\n",
      "[[147.44729461   0.19325441]\n",
      " [136.10188122   0.19357576]\n",
      " [ 49.97424035   0.19709637]\n",
      " [100.43000739   0.19949759]\n",
      " [ 56.23636856   0.2027654 ]\n",
      " [105.94222971   0.20398596]]\n"
     ]
    }
   ],
   "source": [
    "# supers\n",
    "filter_super = ys > maxes[n_supers]\n",
    "x_supers = xs[filter_super]\n",
    "y_supers = ys[filter_super]\n",
    "xy_supers = np.column_stack((x_supers.T,y_supers.T))\n",
    "print(xy_supers)\n",
    "print(x_supers,\"\\n\",y_supers)\n",
    "\n",
    "print(\"-\"*45)\n",
    "\n",
    "# mehs\n",
    "filter_meh = np.logical_and(ys > maxes[n_supers+n_mehs]\\\n",
    "                            ,ys <= maxes[n_supers])\n",
    "x_mehs = xs[filter_meh]\n",
    "y_mehs = ys[filter_meh]\n",
    "xy_mehs = np.column_stack((x_mehs,y_mehs))\n",
    "print(xy_mehs)\n",
    "print(x_mehs,\"\\n\",y_mehs)\n",
    "\n",
    "print(xy_mehs[xy_mehs[:,1].argsort()])"
   ]
  },
  {
   "cell_type": "code",
   "execution_count": 9,
   "metadata": {},
   "outputs": [
    {
     "data": {
      "text/plain": [
       "array([[147.44729461,   0.19325441],\n",
       "       [105.94222971,   0.20398596],\n",
       "       [100.43000739,   0.19949759],\n",
       "       [ 49.97424035,   0.19709637],\n",
       "       [ 56.23636856,   0.2027654 ],\n",
       "       [136.10188122,   0.19357576]])"
      ]
     },
     "execution_count": 9,
     "metadata": {},
     "output_type": "execute_result"
    }
   ],
   "source": [
    "xy_mehs"
   ]
  },
  {
   "cell_type": "code",
   "execution_count": 13,
   "metadata": {},
   "outputs": [
    {
     "data": {
      "text/plain": [
       "array([[  4.        ,   5.        ],\n",
       "       [147.44729461,   0.19325441],\n",
       "       [105.94222971,   0.20398596],\n",
       "       [100.43000739,   0.19949759],\n",
       "       [ 49.97424035,   0.19709637],\n",
       "       [ 56.23636856,   0.2027654 ],\n",
       "       [136.10188122,   0.19357576]])"
      ]
     },
     "execution_count": 13,
     "metadata": {},
     "output_type": "execute_result"
    }
   ],
   "source": [
    "np.insert(xy_mehs,0,([4,5]),0)"
   ]
  },
  {
   "cell_type": "code",
   "execution_count": 14,
   "metadata": {},
   "outputs": [
    {
     "data": {
      "text/plain": [
       "2"
      ]
     },
     "execution_count": 14,
     "metadata": {},
     "output_type": "execute_result"
    }
   ],
   "source": [
    "5%3"
   ]
  },
  {
   "cell_type": "code",
   "execution_count": null,
   "metadata": {},
   "outputs": [],
   "source": []
  }
 ],
 "metadata": {
  "kernelspec": {
   "display_name": "Python 3",
   "language": "python",
   "name": "python3"
  },
  "language_info": {
   "codemirror_mode": {
    "name": "ipython",
    "version": 3
   },
   "file_extension": ".py",
   "mimetype": "text/x-python",
   "name": "python",
   "nbconvert_exporter": "python",
   "pygments_lexer": "ipython3",
   "version": "3.8.5"
  }
 },
 "nbformat": 4,
 "nbformat_minor": 4
}
