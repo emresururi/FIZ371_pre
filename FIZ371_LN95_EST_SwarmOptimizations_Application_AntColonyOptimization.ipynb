{
 "cells": [
  {
   "cell_type": "markdown",
   "metadata": {},
   "source": [
    "## Swarm Optimizations Hands-on Applications\n",
    "**FIZ371 - Scientific & Technical Computations | 24/05/2021**\n",
    "\n",
    "* **Ant Colony Optimization**\n",
    "* Artificial Bee Colony\n",
    "\n",
    "Dr. Emre S. Tasci <emre.tasci@hacettepe.edu.tr>"
   ]
  },
  {
   "cell_type": "markdown",
   "metadata": {},
   "source": [
    "# Ant Colony Optimization Application to the Travelling Salesman Problem"
   ]
  },
  {
   "cell_type": "markdown",
   "metadata": {},
   "source": [
    "Start with $N$ cities, randomly placed on the map:"
   ]
  },
  {
   "cell_type": "code",
   "execution_count": 1,
   "metadata": {},
   "outputs": [],
   "source": [
    "import numpy as np\n",
    "import matplotlib.pyplot as plt\n",
    "\n",
    "np.random.seed(371)"
   ]
  },
  {
   "cell_type": "code",
   "execution_count": 2,
   "metadata": {},
   "outputs": [
    {
     "name": "stdout",
     "output_type": "stream",
     "text": [
      "[[973 593]\n",
      " [762 104]\n",
      " [956 140]\n",
      " [987 910]\n",
      " [ 51 737]\n",
      " [782 830]]\n",
      "Path Pheromones:\n",
      " [[8.84969585 5.38073582 2.01990761 5.8648529  9.61690872 3.48805845]\n",
      " [5.38073582 7.33390833 5.91884546 5.58403651 8.95082769 7.54045035]\n",
      " [2.01990761 5.91884546 0.54368606 3.37227274 1.96539267 1.23654   ]\n",
      " [5.8648529  5.58403651 3.37227274 4.22983271 5.05377141 5.48096872]\n",
      " [9.61690872 8.95082769 1.96539267 5.05377141 0.44725157 3.9099071 ]\n",
      " [3.48805845 7.54045035 1.23654    5.48096872 3.9099071  8.89422756]]\n",
      "Distances:\n",
      " [[   0.       532.58051  453.31887  317.309    933.17737  304.38463]\n",
      " [ 532.58051    0.       197.31194  836.81599  951.95063  726.27543]\n",
      " [ 453.31887  197.31194    0.       770.62377 1084.17434  711.60101]\n",
      " [ 317.309    836.81599  770.62377    0.       951.85346  220.05681]\n",
      " [ 933.17737  951.95063 1084.17434  951.85346    0.       736.89212]\n",
      " [ 304.38463  726.27543  711.60101  220.05681  736.89212    0.     ]]\n"
     ]
    }
   ],
   "source": [
    "map_dimensions = 1000\n",
    "N = 6\n",
    "\n",
    "alpha = 1.0\n",
    "beta = 1.1\n",
    "Q = 10*N # Total pheromone per path\n",
    "rho = 0.85 # Pheromone persistance coefficient (1-rho)'\n",
    "\n",
    "# Place the cities\n",
    "coords_cities = np.random.randint(0,map_dimensions,size=(N,2))\n",
    "print(coords_cities)\n",
    "\n",
    "# randomly initialize pheromones along the city paths\n",
    "matrix_pher = np.random.rand(N,N)*10\n",
    "# Symmetrize the matrix so that path A->B is equal to path B->A\n",
    "matrix_pher = np.tril(matrix_pher) + np.tril(matrix_pher, -1).T\n",
    "print(\"Path Pheromones:\\n\",matrix_pher)\n",
    "\n",
    "# Calculate the distances\n",
    "matrix_dist = np.zeros((N,N))\n",
    "for i in range(N):\n",
    "    for j in range(i+1,N):\n",
    "        matrix_dist[i,j] = np.linalg.norm(coords_cities[i,:]-coords_cities[j,:])\n",
    "# Symmetrize\n",
    "matrix_dist += np.tril(matrix_dist.T)\n",
    "with np.printoptions(precision=5):\n",
    "    print(\"Distances:\\n\",matrix_dist)\n"
   ]
  },
  {
   "cell_type": "code",
   "execution_count": 3,
   "metadata": {},
   "outputs": [
    {
     "data": {
      "image/png": "[encoded data removed]",
      "text/plain": [
       "<Figure size 432x288 with 1 Axes>"
      ]
     },
     "metadata": {
      "needs_background": "light"
     },
     "output_type": "display_data"
    }
   ],
   "source": [
    "alphabet = np.array(list(map(chr, range(65, 91))))\n",
    "\n",
    "# Show them on the map\n",
    "fig,ax = plt.subplots()\n",
    "plt.plot(coords_cities[:,0],coords_cities[:,1],\"ob\")\n",
    "plt.xlim(0,map_dimensions+10)\n",
    "plt.ylim(0,map_dimensions+10)\n",
    "\n",
    "# Positions for labels - scaled\n",
    "x_left = np.round(3*map_dimensions/300)\n",
    "y_up = np.round(7*map_dimensions/300)\n",
    "\n",
    "# Label the cities correspondingly\n",
    "for i in range(N):\n",
    "    ax.annotate(alphabet[i],(coords_cities[i,0]-x_left,\\\n",
    "                             coords_cities[i,1]+y_up))\n",
    "plt.show()"
   ]
  },
  {
   "cell_type": "code",
   "execution_count": 4,
   "metadata": {},
   "outputs": [],
   "source": [
    "def send_the_ant():\n",
    "    global matrix_pher\n",
    "    # Start from a random city\n",
    "    city_start = np.random.randint(N)\n",
    "    #d#print(\"Starting City: {:} (#{:})\\n\".format(alphabet[city_start],city_start))\n",
    "    city_sequence = [city_start]\n",
    "    city_from = city_start\n",
    "    # At the beginning we haven't visited any cities yet\n",
    "    # -- except the city we are starting from\n",
    "    cities_not_visited = np.arange(N)\n",
    "    cities_not_visited = np.delete(cities_not_visited,\\\n",
    "                                   np.where(cities_not_visited == city_start))\n",
    "\n",
    "    while (len(cities_not_visited)):\n",
    "        # Calculate the possibilities\n",
    "        possibilities = []\n",
    "        for city_possible in cities_not_visited:\n",
    "            pher_this = matrix_pher[city_start,city_possible]\n",
    "            dist_this = matrix_dist[city_start,city_possible]\n",
    "            p_this = pher_this**alpha / dist_this**beta\n",
    "            possibilities.append(p_this)\n",
    "        possibilities /= sum(possibilities)\n",
    "        #print(cities_not_visited)\n",
    "        #print(alphabet[cities_not_visited])\n",
    "        #d#print(\"Possible Destinations: {:}\".format((\", \".join(alphabet[cities_not_visited]))))\n",
    "\n",
    "        #d#with np.printoptions(formatter={'float': lambda x: \"{0:0.2f}\".format(x)}):\n",
    "            #d#print(\"Possibilities: \",possibilities)\n",
    "\n",
    "        # Choose one city in accordance with the possibilities\n",
    "        city_chosen = np.random.choice(cities_not_visited,p=possibilities)\n",
    "        city_to = city_chosen\n",
    "        city_sequence.append(city_chosen)\n",
    "        #d#print(\"Next City Chosen: {:} (#{:})\".format(alphabet[city_chosen],city_chosen))\n",
    "        cities_not_visited = np.delete(cities_not_visited,\\\n",
    "                                   np.where(cities_not_visited == city_chosen))\n",
    "        #d#print(\"\")\n",
    "        #d#print(city_from,\"->\",city_to)\n",
    "\n",
    "        # Increase pheromone in the visited path\n",
    "        matrix_pher[city_from,city_to] += Q / matrix_dist[city_from,city_to]\n",
    "        matrix_pher[city_to,city_from] = matrix_pher[city_from,city_to]\n",
    "        #print(matrix_pher)\n",
    "        city_from = city_to\n",
    "    #d#print(\"Travel Sequence: {:}\".format(\"->\".join(alphabet[city_sequence])))\n",
    "\n",
    "    # Evaporate pheromone\n",
    "    matrix_pher *= rho"
   ]
  },
  {
   "cell_type": "code",
   "execution_count": 5,
   "metadata": {},
   "outputs": [],
   "source": [
    "for i in range(100000):\n",
    "    send_the_ant()"
   ]
  },
  {
   "cell_type": "code",
   "execution_count": 6,
   "metadata": {},
   "outputs": [
    {
     "name": "stdout",
     "output_type": "stream",
     "text": [
      "[[0.0000 0.1988 0.1255 0.7894 0.0124 0.2133]\n",
      " [0.1988 0.0000 0.9595 0.1165 0.1449 0.1634]\n",
      " [0.1255 0.9595 0.0000 0.1085 0.0965 0.2962]\n",
      " [0.7894 0.1165 0.1085 0.0000 0.0356 0.5981]\n",
      " [0.0124 0.1449 0.0965 0.0356 0.0000 0.1387]\n",
      " [0.2133 0.1634 0.2962 0.5981 0.1387 0.0000]]\n"
     ]
    }
   ],
   "source": [
    "with np.printoptions(formatter={'float': lambda x: \"{0:0.4f}\".format(x)}):\n",
    "    print(matrix_pher)"
   ]
  },
  {
   "cell_type": "code",
   "execution_count": 7,
   "metadata": {},
   "outputs": [
    {
     "name": "stdout",
     "output_type": "stream",
     "text": [
      "Starting from: A (#0)\n",
      "\tA -> D (317.31)\n",
      "\tD -> F (220.06)\n",
      "\tF -> C (711.60)\n",
      "\tC -> B (197.31)\n",
      "\tB -> E (951.95)\n",
      "A -> D -> F -> C -> B -> E\n",
      "Total Distance: 2398.23 units.\n",
      "\n",
      "Starting from: B (#1)\n",
      "\tB -> C (197.31)\n",
      "\tC -> F (711.60)\n",
      "\tF -> D (220.06)\n",
      "\tD -> A (317.31)\n",
      "\tA -> E (933.18)\n",
      "B -> C -> F -> D -> A -> E\n",
      "Total Distance: 2379.46 units.\n",
      "\n",
      "Starting from: C (#2)\n",
      "\tC -> B (197.31)\n",
      "\tB -> A (532.58)\n",
      "\tA -> D (317.31)\n",
      "\tD -> F (220.06)\n",
      "\tF -> E (736.89)\n",
      "C -> B -> A -> D -> F -> E\n",
      "Total Distance: 2004.15 units.\n",
      "\n",
      "Starting from: D (#3)\n",
      "\tD -> A (317.31)\n",
      "\tA -> F (304.38)\n",
      "\tF -> C (711.60)\n",
      "\tC -> B (197.31)\n",
      "\tB -> E (951.95)\n",
      "D -> A -> F -> C -> B -> E\n",
      "Total Distance: 2482.56 units.\n",
      "\n",
      "Starting from: E (#4)\n",
      "\tE -> B (951.95)\n",
      "\tB -> C (197.31)\n",
      "\tC -> F (711.60)\n",
      "\tF -> D (220.06)\n",
      "\tD -> A (317.31)\n",
      "E -> B -> C -> F -> D -> A\n",
      "Total Distance: 2398.23 units.\n",
      "\n",
      "Starting from: F (#5)\n",
      "\tF -> D (220.06)\n",
      "\tD -> A (317.31)\n",
      "\tA -> B (532.58)\n",
      "\tB -> C (197.31)\n",
      "\tC -> E (1084.17)\n",
      "F -> D -> A -> B -> C -> E\n",
      "Total Distance: 2351.43 units.\n",
      "\n",
      "Winning Path: C -> B -> A -> D -> F -> E (2004.15 units)\n"
     ]
    }
   ],
   "source": [
    "# Calculate most efficient path:\n",
    "winning_path = \"\"\n",
    "winning_dist = 1E10\n",
    "winning_seq = []\n",
    "for starting_city in range(N):\n",
    "    pher_clone = np.copy(matrix_pher)\n",
    "    total_distance = 0\n",
    "    print(\"Starting from: {:} (#{:})\".\\\n",
    "          format(alphabet[starting_city],starting_city))\n",
    "    seq = [starting_city]\n",
    "    this_city = starting_city\n",
    "    for i in range(N-1):\n",
    "        next_city = pher_clone[this_city,:].argmax()\n",
    "        seq.append(next_city)\n",
    "        print(\"\\t{:} -> {:} ({:.2f})\".format(alphabet[this_city],\n",
    "                                             alphabet[next_city],\n",
    "                                matrix_dist[this_city,next_city]))\n",
    "        total_distance += matrix_dist[this_city,next_city]\n",
    "        pher_clone[:,this_city] = 0.0\n",
    "        pher_clone[:,next_city] = 0.0\n",
    "        this_city = next_city\n",
    "    this_path = \" -> \".join(alphabet[seq])\n",
    "    if(total_distance < winning_dist):\n",
    "        winning_dist = total_distance\n",
    "        winning_path = this_path\n",
    "        winning_seq = seq\n",
    "    print(this_path)\n",
    "    print(\"Total Distance: {:.2f} units.\".format(total_distance))\n",
    "    print(\"\")\n",
    "print(\"Winning Path: {:} ({:.2f} units)\".format(winning_path,winning_dist))"
   ]
  },
  {
   "cell_type": "code",
   "execution_count": 8,
   "metadata": {},
   "outputs": [
    {
     "name": "stdout",
     "output_type": "stream",
     "text": [
      "[[   0.00  532.58  453.32  317.31  933.18  304.38]\n",
      " [ 532.58    0.00  197.31  836.82  951.95  726.28]\n",
      " [ 453.32  197.31    0.00  770.62 1084.17  711.60]\n",
      " [ 317.31  836.82  770.62    0.00  951.85  220.06]\n",
      " [ 933.18  951.95 1084.17  951.85    0.00  736.89]\n",
      " [ 304.38  726.28  711.60  220.06  736.89    0.00]]\n"
     ]
    }
   ],
   "source": [
    "with np.printoptions(formatter={'float': lambda x: \"{0:7.2f}\".format(x)}):\n",
    "    print(matrix_dist)\n"
   ]
  },
  {
   "cell_type": "code",
   "execution_count": 9,
   "metadata": {},
   "outputs": [
    {
     "data": {
      "image/png": "[encoded data removed]",
      "text/plain": [
       "<Figure size 432x288 with 1 Axes>"
      ]
     },
     "metadata": {
      "needs_background": "light"
     },
     "output_type": "display_data"
    }
   ],
   "source": [
    "# Show them on the map\n",
    "fig,ax = plt.subplots()\n",
    "for i in range(N-1):\n",
    "    plt.plot([coords_cities[winning_seq[i],0],coords_cities[winning_seq[i+1],0]],\\\n",
    "             [coords_cities[winning_seq[i],1],coords_cities[winning_seq[i+1],1]],\\\n",
    "            \"r-\")\n",
    "plt.plot(coords_cities[:,0],coords_cities[:,1],\"ob\")\n",
    "plt.xlim(0,map_dimensions+10)\n",
    "plt.ylim(0,map_dimensions+10)\n",
    "\n",
    "# Positions for labels - scaled\n",
    "x_left = np.round(3*map_dimensions/300)\n",
    "y_up = np.round(7*map_dimensions/300)\n",
    "\n",
    "# Label the cities correspondingly\n",
    "for i in range(N):\n",
    "    ax.annotate(alphabet[i],(coords_cities[i,0]-x_left,\\\n",
    "                             coords_cities[i,1]+y_up))\n",
    "plt.show()"
   ]
  },
  {
   "cell_type": "code",
   "execution_count": 10,
   "metadata": {},
   "outputs": [],
   "source": [
    "def calc_dist(seq):\n",
    "    total_distance = 0\n",
    "    for i in range(len(seq)-1):\n",
    "        total_distance += matrix_dist[seq[i],seq[i+1]]\n",
    "    return total_distance"
   ]
  },
  {
   "cell_type": "code",
   "execution_count": 11,
   "metadata": {},
   "outputs": [
    {
     "data": {
      "text/plain": [
       "2004.1503769979772"
      ]
     },
     "execution_count": 11,
     "metadata": {},
     "output_type": "execute_result"
    }
   ],
   "source": [
    "calc_dist(winning_seq)"
   ]
  },
  {
   "cell_type": "code",
   "execution_count": 12,
   "metadata": {},
   "outputs": [
    {
     "data": {
      "text/plain": [
       "1924.8887389707297"
      ]
     },
     "execution_count": 12,
     "metadata": {},
     "output_type": "execute_result"
    }
   ],
   "source": [
    "calc_dist([1,2,0,3,5,4])"
   ]
  }
 ],
 "metadata": {
  "kernelspec": {
   "display_name": "Python 3",
   "language": "python",
   "name": "python3"
  },
  "language_info": {
   "codemirror_mode": {
    "name": "ipython",
    "version": 3
   },
   "file_extension": ".py",
   "mimetype": "text/x-python",
   "name": "python",
   "nbconvert_exporter": "python",
   "pygments_lexer": "ipython3",
   "version": "3.8.5"
  }
 },
 "nbformat": 4,
 "nbformat_minor": 4
}
